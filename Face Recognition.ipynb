{
 "cells": [
  {
   "cell_type": "markdown",
   "id": "a406f4f2",
   "metadata": {},
   "source": [
    "# Import the libraries for face recognition"
   ]
  },
  {
   "cell_type": "code",
   "execution_count": null,
   "id": "495d764f",
   "metadata": {},
   "outputs": [],
   "source": [
    "import smtplib as s\n",
    "import cv2\n",
    "import numpy as np\n",
    "from os import listdir\n",
    "from os.path import isfile, join\n",
    "import joblib\n",
    "import os\n",
    "from email.message import EmailMessage\n",
    "import pywhatkit\n",
    "import datetime\n",
    "import subprocess"
   ]
  },
  {
   "cell_type": "markdown",
   "id": "b35f4ec7",
   "metadata": {},
   "source": [
    "# Loading haar face classifier 👇"
   ]
  },
  {
   "cell_type": "code",
   "execution_count": 2,
   "id": "2888d77e",
   "metadata": {},
   "outputs": [],
   "source": [
    "face_classifier = cv2.CascadeClassifier('haarcascade_frontalface_default.xml')"
   ]
  },
  {
   "cell_type": "code",
   "execution_count": null,
   "id": "093eb688",
   "metadata": {},
   "outputs": [],
   "source": [
    "n = int(input(\"Enter no. of user: \"))"
   ]
  },
  {
   "cell_type": "markdown",
   "id": "faf86c1a",
   "metadata": {},
   "source": [
    "# Creating n number of users 👇"
   ]
  },
  {
   "cell_type": "code",
   "execution_count": 4,
   "id": "4dac291e",
   "metadata": {},
   "outputs": [],
   "source": [
    "USER = [i+1 for i in range(0,n)]"
   ]
  },
  {
   "cell_type": "code",
   "execution_count": null,
   "id": "f6e8190d",
   "metadata": {},
   "outputs": [],
   "source": [
    "USER"
   ]
  },
  {
   "cell_type": "markdown",
   "id": "81e62d7a",
   "metadata": {},
   "source": [
    "# Taking input of user names 👇"
   ]
  },
  {
   "cell_type": "code",
   "execution_count": null,
   "id": "2df6dc2f",
   "metadata": {},
   "outputs": [],
   "source": [
    "USER_NAME = []     \n",
    "\n",
    "for i in range(0,n):\n",
    "    name = input(\"Enter user \" + str(i+1) + \" name : \")\n",
    "    USER_NAME.append(name)"
   ]
  },
  {
   "cell_type": "markdown",
   "id": "f4eb2a75",
   "metadata": {},
   "source": [
    "# Creating function that detects faces and return the cropped face. If no face detected, it will return the input img. 👇"
   ]
  },
  {
   "cell_type": "code",
   "execution_count": 7,
   "id": "01e54207",
   "metadata": {},
   "outputs": [
    {
     "name": "stderr",
     "output_type": "stream",
     "text": [
      "<>:6: SyntaxWarning: \"is\" with a literal. Did you mean \"==\"?\n",
      "<>:6: SyntaxWarning: \"is\" with a literal. Did you mean \"==\"?\n",
      "<ipython-input-7-44805affd518>:6: SyntaxWarning: \"is\" with a literal. Did you mean \"==\"?\n",
      "  if faces is ():\n"
     ]
    }
   ],
   "source": [
    "\n",
    "def face_extractor(img):\n",
    "    \n",
    "    gray = cv2.cvtColor(img, cv2.COLOR_BGR2GRAY)\n",
    "    faces = face_classifier.detectMultiScale(gray, 1.3,5)\n",
    "    \n",
    "    if faces is (): \n",
    "        return None\n",
    "    \n",
    "    #crop all faces found\n",
    "    for (x,y,w,h) in faces:\n",
    "        cropped_face = img[y:y+h, x:x+w]\n",
    "        \n",
    "    return cropped_face"
   ]
  },
  {
   "cell_type": "markdown",
   "id": "183f06f3",
   "metadata": {},
   "source": [
    "# Creating a function which will create folder for both users 👇"
   ]
  },
  {
   "cell_type": "code",
   "execution_count": 8,
   "id": "3a340cf5",
   "metadata": {},
   "outputs": [],
   "source": [
    "def change_dir (i):\n",
    "    os.chdir(\"D:\\task6\\faces\")\n",
    "    os.system(\"mkdir \"+ str(USER_NAME[i]))"
   ]
  },
  {
   "cell_type": "markdown",
   "id": "1c34fdd4",
   "metadata": {},
   "source": [
    "# Creating function which will initialize webcam and collect 100 samples of img from webcam 👇"
   ]
  },
  {
   "cell_type": "code",
   "execution_count": 9,
   "id": "ac386a6c",
   "metadata": {},
   "outputs": [],
   "source": [
    "def capture(i):\n",
    "    cap = cv2.VideoCapture(0)\n",
    "    count = 0\n",
    "\n",
    "    while True:\n",
    "    \n",
    "        ret, photo = cap.read()\n",
    "        if face_extractor(photo) is not None:\n",
    "            count += 1\n",
    "            face = cv2.resize(face_extractor(photo),(200,200))\n",
    "            face = cv2.cvtColor(face, cv2.COLOR_BGR2GRAY)  #training would be faster for B/W img\n",
    "        \n",
    "        #save file in specified directory with unique name\n",
    "            change_dir(i)\n",
    "            file_name_path = 'D:\\task6\\faces'+ str(USER_NAME[i]) +\"/\"+ str(count) + '.jpg'\n",
    "            cv2.imwrite(file_name_path, face)\n",
    "        \n",
    "        #put count on img and display live count\n",
    "            cv2.putText(face, str(count), (50,50), cv2.FONT_HERSHEY_COMPLEX, 1, (0,0,255),2)\n",
    "            cv2.imshow('Face cropper', face)\n",
    "        \n",
    "        \n",
    "        else:\n",
    "            pass\n",
    "    \n",
    "        if cv2.waitKey(1) == 13 or count == 100:  #13 is for ENTER key\n",
    "            break\n",
    "        \n",
    "\n",
    "    cap.release()\n",
    "    cv2.destroyAllWindows()\n",
    "    print(\"Sample Collection for \"+ str(USER_NAME[i]) +\" completed\")"
   ]
  },
  {
   "cell_type": "markdown",
   "id": "012261ce",
   "metadata": {},
   "source": [
    "# Sample collection from both user 👇"
   ]
  },
  {
   "cell_type": "code",
   "execution_count": null,
   "id": "1d8e620c",
   "metadata": {},
   "outputs": [],
   "source": [
    "for i in range(0,n):\n",
    "    capture(i)"
   ]
  },
  {
   "cell_type": "markdown",
   "id": "64d7b0f9",
   "metadata": {},
   "source": [
    "# This function will help to get the training data and then it will train both models 👇"
   ]
  },
  {
   "cell_type": "code",
   "execution_count": 10,
   "id": "84f787ec",
   "metadata": {},
   "outputs": [],
   "source": [
    "LBPH_obj = [None, None]\n",
    "\n",
    "\n",
    "def train_model(j):\n",
    "    data_path = 'D:\\task6\\faces'+ str(USER_NAME[j]) + \"/\"     #. is used for current dir\n",
    "    onlyfiles = [f for f in listdir(data_path) if isfile(join(data_path, f))]\n",
    "\n",
    "\n",
    "    #create arrays for training data and labels\n",
    "    Train_data , Labels = [], []\n",
    "\n",
    "    #open training images in our datapath\n",
    "    #create numpy array for training data\n",
    "\n",
    "    for i , files in enumerate(onlyfiles):\n",
    "        image_path = data_path + onlyfiles[i]\n",
    "        images = cv2.imread(image_path, cv2.IMREAD_GRAYSCALE)\n",
    "        Train_data.append(np.asarray(images, dtype = np.uint8))\n",
    "        Labels.append(i)\n",
    "\n",
    "\n",
    "    #create a numpy array for both training data and lebels\n",
    "    Labels = np.asarray(Labels, dtype = np.int32)\n",
    "\n",
    "    \n",
    "    #initialize facial recognizer\n",
    "    #model = cv2.face.createLBPHFaceRecognizer()\n",
    "    # Note : for opencv 3.0 use cv2.face.createLBPHFaceRecognizer()\n",
    "    #pip install opencv-contrib-python\n",
    "    #model = cv2.createLBPHFaceRecognizer()\n",
    "\n",
    "    LBPH_obj[j] = cv2.face_LBPHFaceRecognizer.create()\n",
    "\n",
    "    #train the model\n",
    "    LBPH_obj[j].train(np.asarray(Train_data), np.asarray(Labels))\n",
    "    print(\"Model for \" +str(USER_NAME[j])+ \" trained successfully\")"
   ]
  },
  {
   "cell_type": "markdown",
   "id": "63dd22e1",
   "metadata": {},
   "source": [
    "# Calling function to train the models 👇"
   ]
  },
  {
   "cell_type": "code",
   "execution_count": null,
   "id": "847525b4",
   "metadata": {},
   "outputs": [],
   "source": [
    "for j in range(0,n):\n",
    "    train_model(j)"
   ]
  },
  {
   "cell_type": "markdown",
   "id": "e4e8d594",
   "metadata": {},
   "source": [
    "# This function will help to get the region of interest. 👇"
   ]
  },
  {
   "cell_type": "code",
   "execution_count": 12,
   "id": "fc91ce10",
   "metadata": {},
   "outputs": [
    {
     "name": "stderr",
     "output_type": "stream",
     "text": [
      "<>:6: SyntaxWarning: \"is\" with a literal. Did you mean \"==\"?\n",
      "<>:6: SyntaxWarning: \"is\" with a literal. Did you mean \"==\"?\n",
      "<ipython-input-12-83000bab0f05>:6: SyntaxWarning: \"is\" with a literal. Did you mean \"==\"?\n",
      "  if faces is():\n"
     ]
    }
   ],
   "source": [
    "def face_detector(img, size = 0.5):\n",
    "    \n",
    "    #convert image to grayscale\n",
    "    gray = cv2.cvtColor(img, cv2.COLOR_BGR2GRAY)\n",
    "    faces = face_classifier.detectMultiScale(gray, 1.3, 5)\n",
    "    if faces is():\n",
    "        return img, []\n",
    "    \n",
    "    \n",
    "    for (x,y,w,h) in faces:\n",
    "        cv2.rectangle(img, (x,y),(x+w, y+h),(0,255,0),2)\n",
    "        region_of_interest = img[y:y+h, x:x+w]\n",
    "        region_of_interest = cv2.resize(region_of_interest, (200,200))\n",
    "        \n",
    "    return img, region_of_interest"
   ]
  },
  {
   "cell_type": "markdown",
   "id": "00bf4a50",
   "metadata": {},
   "source": [
    "# Function for sending email 👇"
   ]
  },
  {
   "cell_type": "code",
   "execution_count": null,
   "id": "1e4eee72",
   "metadata": {},
   "outputs": [],
   "source": [
    "def email():\n",
    "    send_email = \"sampreethi66@gmail.com\"\n",
    "\n",
    "    with open(\"D:\\task6\\faces\") as file:                       #reading password\n",
    "        pswrd = file.read()\n",
    "\n",
    "    msg = EmailMessage()\n",
    "\n",
    "    msg[\"Subject\"] = 'Face recognition'\n",
    "    msg['From'] = send_email\n",
    "    msg['To'] = 'sampreethi66@gmail.com'\n",
    "\n",
    "    msg.set_content(\"This is face of sampreethi\")\n",
    "\n",
    "    server = s.SMTP_SSL(\"smtp.gmail.com\", 465)\n",
    "    server.login(send_email,pswrd)\n",
    "    print(\"Login Success!!\")\n",
    "\n",
    "\n",
    "    server.send_message(msg)\n",
    "    print(\"Email has been sent successfully\")\n",
    "\n",
    "    server.close()"
   ]
  },
  {
   "cell_type": "markdown",
   "id": "b3f936d5",
   "metadata": {},
   "source": [
    "# Function for sending whatsapp msg 👇"
   ]
  },
  {
   "cell_type": "code",
   "execution_count": null,
   "id": "f1913ced",
   "metadata": {},
   "outputs": [],
   "source": [
    "def whatsapp():\n",
    "    \n",
    "    file = open(\"D:\\task6\\faces\")                     \n",
    "    ph_no = file.read()\n",
    "    pywhatkit.sendwhatmsg_instantly(ph_no, \"This msg was sent using python code\")"
   ]
  },
  {
   "cell_type": "markdown",
   "id": "dcab2ba2",
   "metadata": {},
   "source": [
    "# This function will create a new EC2 instance and EBS volume and then attach both 👇"
   ]
  },
  {
   "cell_type": "code",
   "execution_count": null,
   "id": "b6ea8c75",
   "metadata": {},
   "outputs": [],
   "source": [
    "def instance_vol():\n",
    "    i_id = subprocess.getoutput(\"aws ec2 run-instances --image-id ami-0320b895e6e618ca3 --instance-type t2.micro --count 1 --subnet-id subnet-8b93c9c7  --key-name awskey --query Instances[*].[InstanceId] --output text\")\n",
    "    print(\"EC2 Instance with instance id : {} created successfully\".format(i_id))\n",
    "    v_id = subprocess.getoutput(\"aws ec2 create-volume --volume-type gp2 --size 5 --availability-zone ap-south-1a --query VolumeId --output text\")\n",
    "    print(\"Created 5GB EBS Volume with volume id : {} created\".format(v_id))\n",
    "    attach()"
   ]
  },
  {
   "cell_type": "code",
   "execution_count": null,
   "id": "3c145a66",
   "metadata": {},
   "outputs": [],
   "source": [
    "def attach():\n",
    "    vid = input(\"Enter volume id: \")\n",
    "    iid = input(\"Enter instance id: \")\n",
    "    subprocess.getoutput(\"aws ec2 attach-volume --volume-id \" + vid +  \" --instance-id \" + iid + \" --dev /dev/sdf\")\n",
    "    print(\"EBS volume Attached successfully to the newly created instance\")"
   ]
  },
  {
   "cell_type": "markdown",
   "id": "7e2b9595",
   "metadata": {},
   "source": [
    "# Face recognition part 👇"
   ]
  },
  {
   "cell_type": "code",
   "execution_count": null,
   "id": "0b99eaf8",
   "metadata": {},
   "outputs": [],
   "source": [
    "\n",
    "cap = cv2.VideoCapture(0)\n",
    "def capture():\n",
    "    count_1 = 0\n",
    "    count_2 = 0\n",
    "    \n",
    "    while True:\n",
    "    \n",
    "        ret, photo = cap.read()\n",
    "        image, face = face_detector(photo)\n",
    "    \n",
    "        try:\n",
    "            k = 0\n",
    "            face = cv2.cvtColor(face, cv2.COLOR_BGR2GRAY)\n",
    "        \n",
    "            #pass face to prediction model\n",
    "            #\"result\" will be a tuple contaning the label and the confidence value\n",
    "            results = LBPH_obj[k].predict(face)\n",
    "            \n",
    "         \n",
    "            if results[1] < 500:                        #results[1] ==> confidence value\n",
    "                confidence = int(100*(1 - (results[1])/400))\n",
    "                \n",
    "            if confidence > 88:\n",
    "                count_1 += 1\n",
    "                display_string = str(confidence) + ' % Confident she is sampreethi'\n",
    "                cv2.putText(image, display_string, (100,120), cv2.FONT_HERSHEY_COMPLEX, 1, (255,120,150), 2)\n",
    "                cv2.putText(image, \"Email & whatsapp msg done\", (100,400), cv2.FONT_HERSHEY_COMPLEX, 1, (0,255,0), 2)\n",
    "                cv2.imshow(\"Face Recognition\", image)\n",
    "                if count_1 == 10:\n",
    "                    email()\n",
    "                    whatsapp()\n",
    "                    \n",
    "                  \n",
    "\n",
    "            k += 1                                 #switching to 2nd model\n",
    "            display_string= \"\"\n",
    "            results = LBPH_obj[k].predict(face)\n",
    "                \n",
    "            if results[1] < 500:\n",
    "                confidence = int(100*(1 - (results[1])/400))            \n",
    "        \n",
    "            if confidence > 88:\n",
    "                count_2 += 1\n",
    "                txt =\"Instance launched\"\n",
    "                display_string = str(confidence) + ' % Confident he is Mukul'\n",
    "                cv2.putText(image, display_string, (80,100), cv2.FONT_HERSHEY_COMPLEX, 1, (255,120,150), 2)\n",
    "                cv2.putText(image, txt, (100,400), cv2.FONT_HERSHEY_COMPLEX, 1, (0,255,0), 2)\n",
    "                \n",
    "                if count_2 == 10:\n",
    "                    instance_vol()\n",
    "                    \n",
    "                cv2.imshow(\"Face Recognition\", image)\n",
    "                \n",
    "        except:\n",
    "            cv2.imshow(\"Face Recognition\", image)\n",
    "            pass\n",
    "        \n",
    "        if cv2.waitKey(1) == 13:\n",
    "            break\n",
    "            \n",
    "            \n",
    "    cap.release()\n",
    "    cv2.destroyAllWindows()"
   ]
  },
  {
   "cell_type": "code",
   "execution_count": null,
   "id": "621d2df3",
   "metadata": {},
   "outputs": [],
   "source": [
    "capture()"
   ]
  },
  {
   "cell_type": "code",
   "execution_count": null,
   "id": "adbfed9a",
   "metadata": {},
   "outputs": [],
   "source": []
  },
  {
   "cell_type": "code",
   "execution_count": null,
   "id": "a7d88bd2",
   "metadata": {},
   "outputs": [],
   "source": []
  },
  {
   "cell_type": "code",
   "execution_count": null,
   "id": "7f14756d",
   "metadata": {},
   "outputs": [],
   "source": []
  },
  {
   "cell_type": "code",
   "execution_count": null,
   "id": "0d185b52",
   "metadata": {},
   "outputs": [],
   "source": []
  }
 ],
 "metadata": {
  "kernelspec": {
   "display_name": "Python 3",
   "language": "python",
   "name": "python3"
  },
  "language_info": {
   "codemirror_mode": {
    "name": "ipython",
    "version": 3
   },
   "file_extension": ".py",
   "mimetype": "text/x-python",
   "name": "python",
   "nbconvert_exporter": "python",
   "pygments_lexer": "ipython3",
   "version": "3.8.8"
  }
 },
 "nbformat": 4,
 "nbformat_minor": 5
}
